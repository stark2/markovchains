{
 "cells": [
  {
   "cell_type": "code",
   "execution_count": 11,
   "metadata": {},
   "outputs": [],
   "source": [
    "import os"
   ]
  },
  {
   "cell_type": "code",
   "execution_count": null,
   "metadata": {},
   "outputs": [],
   "source": [
    "import xml.etree.ElementTree as et \n",
    "\n",
    "xtree = et.parse(\"students.xml\")\n",
    "xroot = xtree.getroot()"
   ]
  },
  {
   "cell_type": "code",
   "execution_count": 4,
   "metadata": {},
   "outputs": [],
   "source": [
    "for node in xroot: \n",
    "    s_name = node.attrib.get(\"name\")\n",
    "    s_mail = node.find(\"email\").text\n",
    "    s_grade = node.find(\"grade\").text\n",
    "    s_age = node.find(\"age\").text"
   ]
  },
  {
   "cell_type": "code",
   "execution_count": null,
   "metadata": {},
   "outputs": [],
   "source": []
  },
  {
   "cell_type": "code",
   "execution_count": 38,
   "metadata": {},
   "outputs": [
    {
     "name": "stdout",
     "output_type": "stream",
     "text": [
      "<Element 'data' at 0x7fc2500d1c70>\n",
      "{'name': 'John', 'email': 'john@mail.com', 'grade': 'A', 'age': '16'}\n",
      "{'name': 'Alice', 'email': None, 'grade': 'B', 'age': '17'}\n",
      "{'name': 'Bob', 'email': 'bob@mail.com', 'grade': None, 'age': '16'}\n",
      "{'name': 'Hannah', 'email': 'hannah@mail.com', 'grade': 'A', 'age': None}\n"
     ]
    }
   ],
   "source": [
    "import pandas as pd \n",
    "import xml.etree.ElementTree as et \n",
    "\n",
    "xtree = et.parse(\"students.xml\")\n",
    "xroot = xtree.getroot() \n",
    "print(xroot)\n",
    "\n",
    "df_cols = [\"name\", \"email\", \"grade\", \"age\"]\n",
    "rows = []\n",
    "\n",
    "for node in xroot: \n",
    "    s_name = node.attrib.get(\"name\")\n",
    "    s_mail = node.find(\"email\").text if node.find(\"email\") is not None else None\n",
    "    s_grade = node.find(\"grade\").text if node.find(\"grade\") is not None else None\n",
    "    s_age = node.find(\"age\").text if node.find(\"age\") is not None else None\n",
    "    \n",
    "    rows.append({\"name\": s_name, \"email\": s_mail, \"grade\": s_grade, \"age\": s_age})\n",
    "    print({\"name\": s_name, \"email\": s_mail, \"grade\": s_grade, \"age\": s_age})\n",
    "\n",
    "out_df = pd.DataFrame(rows, columns = df_cols)"
   ]
  },
  {
   "cell_type": "code",
   "execution_count": 37,
   "metadata": {},
   "outputs": [
    {
     "data": {
      "text/html": [
       "<div>\n",
       "<style scoped>\n",
       "    .dataframe tbody tr th:only-of-type {\n",
       "        vertical-align: middle;\n",
       "    }\n",
       "\n",
       "    .dataframe tbody tr th {\n",
       "        vertical-align: top;\n",
       "    }\n",
       "\n",
       "    .dataframe thead th {\n",
       "        text-align: right;\n",
       "    }\n",
       "</style>\n",
       "<table border=\"1\" class=\"dataframe\">\n",
       "  <thead>\n",
       "    <tr style=\"text-align: right;\">\n",
       "      <th></th>\n",
       "      <th>name</th>\n",
       "      <th>email</th>\n",
       "      <th>grade</th>\n",
       "      <th>age</th>\n",
       "    </tr>\n",
       "  </thead>\n",
       "  <tbody>\n",
       "    <tr>\n",
       "      <th>0</th>\n",
       "      <td>John</td>\n",
       "      <td>john@mail.com</td>\n",
       "      <td>A</td>\n",
       "      <td>16</td>\n",
       "    </tr>\n",
       "    <tr>\n",
       "      <th>1</th>\n",
       "      <td>Alice</td>\n",
       "      <td>None</td>\n",
       "      <td>B</td>\n",
       "      <td>17</td>\n",
       "    </tr>\n",
       "    <tr>\n",
       "      <th>2</th>\n",
       "      <td>Bob</td>\n",
       "      <td>bob@mail.com</td>\n",
       "      <td>None</td>\n",
       "      <td>16</td>\n",
       "    </tr>\n",
       "    <tr>\n",
       "      <th>3</th>\n",
       "      <td>Hannah</td>\n",
       "      <td>hannah@mail.com</td>\n",
       "      <td>A</td>\n",
       "      <td>None</td>\n",
       "    </tr>\n",
       "  </tbody>\n",
       "</table>\n",
       "</div>"
      ],
      "text/plain": [
       "     name            email grade   age\n",
       "0    John    john@mail.com     A    16\n",
       "1   Alice             None     B    17\n",
       "2     Bob     bob@mail.com  None    16\n",
       "3  Hannah  hannah@mail.com     A  None"
      ]
     },
     "execution_count": 37,
     "metadata": {},
     "output_type": "execute_result"
    }
   ],
   "source": [
    "out_df"
   ]
  },
  {
   "cell_type": "code",
   "execution_count": 12,
   "metadata": {},
   "outputs": [
    {
     "name": "stdout",
     "output_type": "stream",
     "text": [
      "<data>\r\n",
      "    <student name=\"John\">\r\n",
      "        <email>john@mail.com</email>\r\n",
      "        <grade>A</grade>\r\n",
      "        <age>16</age>\r\n",
      "    </student>\r\n",
      "    <student name=\"Alice\">\r\n",
      "        <email>alice@mail.com</email>\r\n",
      "        <grade>B</grade>\r\n",
      "        <age>17</age>\r\n",
      "    </student>\r\n",
      "    <student name=\"Bob\">\r\n",
      "        <email>bob@mail.com</email>\r\n",
      "        <grade>C</grade>\r\n",
      "        <age>16</age>\r\n",
      "    </student>\r\n",
      "    <student name=\"Hannah\">\r\n",
      "        <email>hannah@mail.com</email>\r\n",
      "        <grade>A</grade>\r\n",
      "        <age>17</age>\r\n",
      "    </student>\r\n",
      "</data>\r\n"
     ]
    }
   ],
   "source": [
    "!cat students.xml"
   ]
  }
 ],
 "metadata": {
  "kernelspec": {
   "display_name": "Python 3",
   "language": "python",
   "name": "python3"
  },
  "language_info": {
   "codemirror_mode": {
    "name": "ipython",
    "version": 3
   },
   "file_extension": ".py",
   "mimetype": "text/x-python",
   "name": "python",
   "nbconvert_exporter": "python",
   "pygments_lexer": "ipython3",
   "version": "3.8.7"
  }
 },
 "nbformat": 4,
 "nbformat_minor": 4
}

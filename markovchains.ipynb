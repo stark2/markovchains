{
 "cells": [
  {
   "cell_type": "code",
   "execution_count": 1,
   "metadata": {},
   "outputs": [],
   "source": [
    "from IPython.core.display import display, HTML"
   ]
  },
  {
   "cell_type": "code",
   "execution_count": 2,
   "metadata": {},
   "outputs": [
    {
     "data": {
      "text/html": [
       "<style>.container {width:100% !important;}</style>"
      ],
      "text/plain": [
       "<IPython.core.display.HTML object>"
      ]
     },
     "metadata": {},
     "output_type": "display_data"
    }
   ],
   "source": [
    "display(HTML(\"<style>.container {width:100% !important;}</style>\"))"
   ]
  },
  {
   "cell_type": "code",
   "execution_count": 3,
   "metadata": {},
   "outputs": [],
   "source": [
    "import pandas as pd\n",
    "import re\n",
    "import random"
   ]
  },
  {
   "cell_type": "code",
   "execution_count": 4,
   "metadata": {},
   "outputs": [],
   "source": [
    "def fetch_url(url, fname):\n",
    "    'get contents of url put in fname'\n",
    "    fin = req.urlopen(url)\n",
    "    data = fin.read()\n",
    "    with open(fname, mode='wb') as fout:\n",
    "        fout.write(data)\n",
    "    #  context mgr closes file"
   ]
  },
  {
   "cell_type": "code",
   "execution_count": 5,
   "metadata": {},
   "outputs": [],
   "source": [
    "def from_file(fname, size=1, encoding='utf8'):\n",
    "    with open(fname, encoding=encoding) as fin:\n",
    "        data = fin.read()\n",
    "    m = Markov(data, size=size)\n",
    "    return m"
   ]
  },
  {
   "cell_type": "code",
   "execution_count": 6,
   "metadata": {},
   "outputs": [],
   "source": [
    "def from_file_words(fname, size=1, encoding='utf8'):\n",
    "    with open(fname, encoding=encoding) as fin:\n",
    "        data = fin.read()\n",
    "    m = MarkovWords(data, size=size)\n",
    "    return m"
   ]
  },
  {
   "cell_type": "code",
   "execution_count": 7,
   "metadata": {},
   "outputs": [],
   "source": [
    "class Markov:\n",
    "    def __init__(self, data, size=1):\n",
    "        '''This is the constructor'''\n",
    "        # This is a comment\n",
    "        self.tables = []\n",
    "        for i in range(size):\n",
    "            self.tables.append(get_table(data, size=i+1))\n",
    "        #self.table = get_table(data)\n",
    "\n",
    "    def predict(self, txt):  # this is a method\n",
    "        table = self.tables[len(txt)-1]\n",
    "        options = table.get(txt, {})\n",
    "        #options = self.table.get(txt, {})\n",
    "        if not options:\n",
    "            raise KeyError('{} not found'.format(txt))\n",
    "            #raise KeyError(f'{txt} not found')\n",
    "        possibles = []   # list literal\n",
    "        for key, count in options.items():\n",
    "            for i in range(count):\n",
    "                possibles.append(key)\n",
    "        return random.choice(possibles)"
   ]
  },
  {
   "cell_type": "code",
   "execution_count": 8,
   "metadata": {},
   "outputs": [],
   "source": [
    "def get_table(txt, size=1):  # this is a function\n",
    "    \"\"\"\n",
    "    Returns a transition table for txt\n",
    "\n",
    "    >>> get_table('ab')\n",
    "    {'a': {'b': 1}}\n",
    "    \"\"\"\n",
    "    results = {}  # dictionary literal\n",
    "    for idx in range(len(txt)):\n",
    "        chars = txt[idx:idx + size]\n",
    "        try:\n",
    "            out = txt[idx+size]\n",
    "        except IndexError:\n",
    "            break\n",
    "        char_dict = results.get(chars, {})\n",
    "        char_dict.setdefault(out, 0)\n",
    "        char_dict[out] += 1\n",
    "        results[chars] = char_dict\n",
    "    return results"
   ]
  },
  {
   "cell_type": "code",
   "execution_count": null,
   "metadata": {},
   "outputs": [],
   "source": []
  },
  {
   "cell_type": "code",
   "execution_count": 9,
   "metadata": {},
   "outputs": [],
   "source": [
    "class MarkovWords:\n",
    "    def __init__(self, data, size=1):\n",
    "        '''This is the constructor'''\n",
    "        # This is a comment\n",
    "        self.tables = []\n",
    "        for i in range(size):\n",
    "            self.tables.append(get_table_words(data, size=i+1))\n",
    "        #self.table = get_table(data)\n",
    "        \n",
    "    def combinations(self):\n",
    "        return self.tables\n",
    "\n",
    "    def predict(self, txt):  # this is a method\n",
    "        #table = self.tables[len(txt)-1]\n",
    "        txt = txt.strip()\n",
    "        ws = re.split('\\s+', txt)\n",
    "        table = self.tables[len(ws)-1]  # select dictionary based on number of words in txt\n",
    "        try:\n",
    "            search_txt = [x for x in table if txt in x.lower()][0]  # search for key in dictionary\n",
    "        except IndexError:\n",
    "            search_txt = txt\n",
    "        options = table.get(search_txt, {})\n",
    "        #options = self.table.get(txt, {})\n",
    "        if not options:\n",
    "            raise KeyError('{} not found'.format(txt))\n",
    "            #raise KeyError(f'{txt} not found')\n",
    "        possibles = []   # list literal\n",
    "        for key, count in options.items():\n",
    "            for i in range(count):\n",
    "                possibles.append(key)\n",
    "        return random.choice(possibles)"
   ]
  },
  {
   "cell_type": "code",
   "execution_count": null,
   "metadata": {},
   "outputs": [],
   "source": []
  },
  {
   "cell_type": "code",
   "execution_count": 10,
   "metadata": {},
   "outputs": [],
   "source": [
    "def get_table_words(txt, size=1):  # this is a function\n",
    "    \"\"\"\n",
    "    Returns a transition table for txt\n",
    "\n",
    "    >>> get_table('ab cd')\n",
    "    {'ab': {'cb': 1}}\n",
    "    \"\"\"\n",
    "    words = re.split('\\s+', txt)\n",
    "    words_count = len(words)\n",
    "    results = {}  # dictionary literal\n",
    "    for idx in range(words_count):\n",
    "        chars = ' '.join(words[idx:idx + size])\n",
    "        try:\n",
    "            out = words[idx+size]\n",
    "        except IndexError:\n",
    "            break\n",
    "        char_dict = results.get(chars, {})\n",
    "        char_dict.setdefault(out, 0)\n",
    "        char_dict[out] += 1\n",
    "        results[chars] = char_dict\n",
    "    return results"
   ]
  },
  {
   "cell_type": "code",
   "execution_count": 11,
   "metadata": {},
   "outputs": [],
   "source": [
    "w = MarkovWords('the one quick brown fox jumps over the one lazy dog', size=4)"
   ]
  },
  {
   "cell_type": "code",
   "execution_count": 12,
   "metadata": {},
   "outputs": [
    {
     "data": {
      "text/plain": [
       "'lazy'"
      ]
     },
     "execution_count": 12,
     "metadata": {},
     "output_type": "execute_result"
    }
   ],
   "source": [
    "w.predict('the one')"
   ]
  },
  {
   "cell_type": "code",
   "execution_count": 13,
   "metadata": {},
   "outputs": [
    {
     "data": {
      "text/plain": [
       "[{'the': {'one': 2},\n",
       "  'one': {'quick': 1, 'lazy': 1},\n",
       "  'quick': {'brown': 1},\n",
       "  'brown': {'fox': 1},\n",
       "  'fox': {'jumps': 1},\n",
       "  'jumps': {'over': 1},\n",
       "  'over': {'the': 1},\n",
       "  'lazy': {'dog': 1}},\n",
       " {'the one': {'quick': 1, 'lazy': 1},\n",
       "  'one quick': {'brown': 1},\n",
       "  'quick brown': {'fox': 1},\n",
       "  'brown fox': {'jumps': 1},\n",
       "  'fox jumps': {'over': 1},\n",
       "  'jumps over': {'the': 1},\n",
       "  'over the': {'one': 1},\n",
       "  'one lazy': {'dog': 1}},\n",
       " {'the one quick': {'brown': 1},\n",
       "  'one quick brown': {'fox': 1},\n",
       "  'quick brown fox': {'jumps': 1},\n",
       "  'brown fox jumps': {'over': 1},\n",
       "  'fox jumps over': {'the': 1},\n",
       "  'jumps over the': {'one': 1},\n",
       "  'over the one': {'lazy': 1},\n",
       "  'the one lazy': {'dog': 1}},\n",
       " {'the one quick brown': {'fox': 1},\n",
       "  'one quick brown fox': {'jumps': 1},\n",
       "  'quick brown fox jumps': {'over': 1},\n",
       "  'brown fox jumps over': {'the': 1},\n",
       "  'fox jumps over the': {'one': 1},\n",
       "  'jumps over the one': {'lazy': 1},\n",
       "  'over the one lazy': {'dog': 1}}]"
      ]
     },
     "execution_count": 13,
     "metadata": {},
     "output_type": "execute_result"
    }
   ],
   "source": [
    "w.combinations()"
   ]
  },
  {
   "cell_type": "code",
   "execution_count": null,
   "metadata": {},
   "outputs": [],
   "source": []
  },
  {
   "cell_type": "code",
   "execution_count": 14,
   "metadata": {},
   "outputs": [
    {
     "data": {
      "text/plain": [
       "2"
      ]
     },
     "execution_count": 14,
     "metadata": {},
     "output_type": "execute_result"
    }
   ],
   "source": [
    "len(re.split('\\s+', \"ab cd\"))"
   ]
  },
  {
   "cell_type": "code",
   "execution_count": 15,
   "metadata": {},
   "outputs": [
    {
     "data": {
      "text/plain": [
       "{'ab': {'cd': 1}}"
      ]
     },
     "execution_count": 15,
     "metadata": {},
     "output_type": "execute_result"
    }
   ],
   "source": [
    "get_table_words(\"ab cd\", size=1)"
   ]
  },
  {
   "cell_type": "code",
   "execution_count": 16,
   "metadata": {},
   "outputs": [],
   "source": [
    "words = get_table_words(\"the one quick brown fox jumps over the on2 lazy dog\", size=2)"
   ]
  },
  {
   "cell_type": "code",
   "execution_count": 17,
   "metadata": {},
   "outputs": [
    {
     "data": {
      "text/plain": [
       "[{'the': {'one': 1, 'on2': 1},\n",
       "  'one': {'quick': 1},\n",
       "  'quick': {'brown': 1},\n",
       "  'brown': {'fox': 1},\n",
       "  'fox': {'jumps': 1},\n",
       "  'jumps': {'over': 1},\n",
       "  'over': {'the': 1},\n",
       "  'on2': {'lazy': 1},\n",
       "  'lazy': {'dog': 1}},\n",
       " {'the one': {'quick': 1},\n",
       "  'one quick': {'brown': 1},\n",
       "  'quick brown': {'fox': 1},\n",
       "  'brown fox': {'jumps': 1},\n",
       "  'fox jumps': {'over': 1},\n",
       "  'jumps over': {'the': 1},\n",
       "  'over the': {'on2': 1},\n",
       "  'the on2': {'lazy': 1},\n",
       "  'on2 lazy': {'dog': 1}}]"
      ]
     },
     "execution_count": 17,
     "metadata": {},
     "output_type": "execute_result"
    }
   ],
   "source": [
    "tables = []\n",
    "words1 = get_table_words(\"the one quick brown fox jumps over the on2 lazy dog\", size=1)\n",
    "words2 = get_table_words(\"the one quick brown fox jumps over the on2 lazy dog\", size=2)\n",
    "tables.append(words1)\n",
    "tables.append(words2)\n",
    "tables"
   ]
  },
  {
   "cell_type": "code",
   "execution_count": 18,
   "metadata": {},
   "outputs": [
    {
     "data": {
      "text/plain": [
       "{'the one': {'quick': 1},\n",
       " 'one quick': {'brown': 1},\n",
       " 'quick brown': {'fox': 1},\n",
       " 'brown fox': {'jumps': 1},\n",
       " 'fox jumps': {'over': 1},\n",
       " 'jumps over': {'the': 1},\n",
       " 'over the': {'on2': 1},\n",
       " 'the on2': {'lazy': 1},\n",
       " 'on2 lazy': {'dog': 1}}"
      ]
     },
     "execution_count": 18,
     "metadata": {},
     "output_type": "execute_result"
    }
   ],
   "source": [
    "words"
   ]
  },
  {
   "cell_type": "code",
   "execution_count": 19,
   "metadata": {},
   "outputs": [
    {
     "data": {
      "text/plain": [
       "True"
      ]
     },
     "execution_count": 19,
     "metadata": {},
     "output_type": "execute_result"
    }
   ],
   "source": [
    "any([x for x in words if 'over t' in x.lower()])"
   ]
  },
  {
   "cell_type": "code",
   "execution_count": 20,
   "metadata": {},
   "outputs": [
    {
     "data": {
      "text/plain": [
       "'the one'"
      ]
     },
     "execution_count": 20,
     "metadata": {},
     "output_type": "execute_result"
    }
   ],
   "source": [
    "[x for x in words if 'the o' in x.lower()][0]"
   ]
  },
  {
   "cell_type": "code",
   "execution_count": 21,
   "metadata": {},
   "outputs": [
    {
     "data": {
      "text/plain": [
       "[{'on2': 1}]"
      ]
     },
     "execution_count": 21,
     "metadata": {},
     "output_type": "execute_result"
    }
   ],
   "source": [
    "[value for key, value in words.items() if 'over t' in key.lower()]"
   ]
  },
  {
   "cell_type": "code",
   "execution_count": 22,
   "metadata": {},
   "outputs": [],
   "source": [
    "def repl(m):\n",
    "    print(\"Welcome to the Markov REPL. (Hit Ctl-C to exit)\")\n",
    "    while True:\n",
    "        try:\n",
    "            txt = input('>')\n",
    "        except KeyboardInterrupt:\n",
    "            print(\"Goodbye\")\n",
    "            break\n",
    "        try:\n",
    "            res = m.predict(txt)\n",
    "        except KeyError:\n",
    "            print(\"Word not found\")\n",
    "        except IndexError:\n",
    "            print('Try again')\n",
    "        else:\n",
    "            print(res)"
   ]
  },
  {
   "cell_type": "code",
   "execution_count": 23,
   "metadata": {},
   "outputs": [],
   "source": [
    "m = Markov('the quick brown fox jumps over the lazy dog', size=3)"
   ]
  },
  {
   "cell_type": "code",
   "execution_count": 24,
   "metadata": {},
   "outputs": [
    {
     "data": {
      "text/plain": [
       "'x'"
      ]
     },
     "execution_count": 24,
     "metadata": {},
     "output_type": "execute_result"
    }
   ],
   "source": [
    "m.predict('o')"
   ]
  },
  {
   "cell_type": "code",
   "execution_count": null,
   "metadata": {},
   "outputs": [],
   "source": []
  },
  {
   "cell_type": "code",
   "execution_count": 25,
   "metadata": {},
   "outputs": [],
   "source": [
    "pp = from_file_words('pp.txt', size=4)"
   ]
  },
  {
   "cell_type": "code",
   "execution_count": 26,
   "metadata": {},
   "outputs": [
    {
     "data": {
      "text/plain": [
       "'can'"
      ]
     },
     "execution_count": 26,
     "metadata": {},
     "output_type": "execute_result"
    }
   ],
   "source": [
    "pp.predict('What')"
   ]
  },
  {
   "cell_type": "code",
   "execution_count": 27,
   "metadata": {},
   "outputs": [
    {
     "data": {
      "text/plain": [
       "{'th': {'e': 2},\n",
       " 'he': {' ': 2},\n",
       " 'e ': {'q': 1, 'l': 1},\n",
       " ' q': {'u': 1},\n",
       " 'qu': {'i': 1},\n",
       " 'ui': {'c': 1},\n",
       " 'ic': {'k': 1},\n",
       " 'ck': {' ': 1},\n",
       " 'k ': {'b': 1},\n",
       " ' b': {'r': 1},\n",
       " 'br': {'o': 1},\n",
       " 'ro': {'w': 1},\n",
       " 'ow': {'n': 1},\n",
       " 'wn': {' ': 1},\n",
       " 'n ': {'f': 1},\n",
       " ' f': {'o': 1},\n",
       " 'fo': {'x': 1},\n",
       " 'ox': {' ': 1},\n",
       " 'x ': {'j': 1},\n",
       " ' j': {'u': 1},\n",
       " 'ju': {'m': 1},\n",
       " 'um': {'p': 1},\n",
       " 'mp': {'s': 1},\n",
       " 'ps': {' ': 1},\n",
       " 's ': {'o': 1},\n",
       " ' o': {'v': 1},\n",
       " 'ov': {'e': 1},\n",
       " 've': {'r': 1},\n",
       " 'er': {' ': 1},\n",
       " 'r ': {'t': 1},\n",
       " ' t': {'h': 1},\n",
       " ' l': {'a': 1},\n",
       " 'la': {'z': 1},\n",
       " 'az': {'y': 1},\n",
       " 'zy': {' ': 1},\n",
       " 'y ': {'d': 1},\n",
       " ' d': {'o': 1},\n",
       " 'do': {'g': 1}}"
      ]
     },
     "execution_count": 27,
     "metadata": {},
     "output_type": "execute_result"
    }
   ],
   "source": [
    "get_table(\"the quick brown fox jumps over the lazy dog\", size=2)"
   ]
  },
  {
   "cell_type": "code",
   "execution_count": 28,
   "metadata": {},
   "outputs": [
    {
     "data": {
      "text/plain": [
       "{'the': {'one': 2},\n",
       " 'one': {'quick': 1, 'lazy': 1},\n",
       " 'quick': {'brown': 1},\n",
       " 'brown': {'fox': 1},\n",
       " 'fox': {'jumps': 1},\n",
       " 'jumps': {'over': 1},\n",
       " 'over': {'the': 1},\n",
       " 'lazy': {'dog': 1}}"
      ]
     },
     "execution_count": 28,
     "metadata": {},
     "output_type": "execute_result"
    }
   ],
   "source": [
    "get_table_words(\"the one quick brown fox jumps over the one lazy dog\", size=1)"
   ]
  },
  {
   "cell_type": "code",
   "execution_count": 29,
   "metadata": {},
   "outputs": [],
   "source": [
    "a = \"the one quick brown fox jumps over the one lazy dog\""
   ]
  },
  {
   "cell_type": "code",
   "execution_count": 30,
   "metadata": {},
   "outputs": [
    {
     "data": {
      "text/plain": [
       "['the',\n",
       " 'one',\n",
       " 'quick',\n",
       " 'brown',\n",
       " 'fox',\n",
       " 'jumps',\n",
       " 'over',\n",
       " 'the',\n",
       " 'one',\n",
       " 'lazy',\n",
       " 'dog']"
      ]
     },
     "execution_count": 30,
     "metadata": {},
     "output_type": "execute_result"
    }
   ],
   "source": [
    "words = re.split('\\s+', a)\n",
    "words"
   ]
  },
  {
   "cell_type": "code",
   "execution_count": 31,
   "metadata": {},
   "outputs": [
    {
     "data": {
      "text/plain": [
       "['the', 'one', 'quick']"
      ]
     },
     "execution_count": 31,
     "metadata": {},
     "output_type": "execute_result"
    }
   ],
   "source": [
    "chars = words[0:0 + 3]\n",
    "chars"
   ]
  },
  {
   "cell_type": "code",
   "execution_count": 32,
   "metadata": {},
   "outputs": [
    {
     "data": {
      "text/plain": [
       "'the one quick'"
      ]
     },
     "execution_count": 32,
     "metadata": {},
     "output_type": "execute_result"
    }
   ],
   "source": [
    "' '.join(chars)"
   ]
  },
  {
   "cell_type": "code",
   "execution_count": 33,
   "metadata": {},
   "outputs": [],
   "source": [
    "l = a.split(\" \", 2)"
   ]
  },
  {
   "cell_type": "code",
   "execution_count": 34,
   "metadata": {},
   "outputs": [
    {
     "data": {
      "text/plain": [
       "['the', 'one']"
      ]
     },
     "execution_count": 34,
     "metadata": {},
     "output_type": "execute_result"
    }
   ],
   "source": [
    "a.split(\" \", 2)[:2]"
   ]
  },
  {
   "cell_type": "code",
   "execution_count": 35,
   "metadata": {},
   "outputs": [
    {
     "data": {
      "text/plain": [
       "'the one'"
      ]
     },
     "execution_count": 35,
     "metadata": {},
     "output_type": "execute_result"
    }
   ],
   "source": [
    "\" \".join(a.split(\" \", 2)[:2])"
   ]
  },
  {
   "cell_type": "code",
   "execution_count": 36,
   "metadata": {},
   "outputs": [],
   "source": [
    "ll = a.split(\" \")"
   ]
  },
  {
   "cell_type": "code",
   "execution_count": 37,
   "metadata": {},
   "outputs": [
    {
     "name": "stdout",
     "output_type": "stream",
     "text": [
      "the\n",
      "one\n",
      "quick\n",
      "brown\n",
      "fox\n",
      "jumps\n",
      "over\n",
      "the\n",
      "one\n",
      "lazy\n",
      "dog\n"
     ]
    }
   ],
   "source": [
    "for i in ll:\n",
    "    print(i)"
   ]
  },
  {
   "cell_type": "code",
   "execution_count": 38,
   "metadata": {},
   "outputs": [
    {
     "name": "stdout",
     "output_type": "stream",
     "text": [
      "the one\n",
      "one quick\n",
      "quick brown\n",
      "brown fox\n",
      "fox jumps\n",
      "jumps over\n",
      "over the\n",
      "the one\n",
      "one lazy\n",
      "lazy dog\n"
     ]
    }
   ],
   "source": [
    "for i in range(len(ll)-1):\n",
    "    print(ll[i], ll[i+1])"
   ]
  },
  {
   "cell_type": "code",
   "execution_count": null,
   "metadata": {},
   "outputs": [],
   "source": []
  },
  {
   "cell_type": "code",
   "execution_count": null,
   "metadata": {},
   "outputs": [],
   "source": []
  },
  {
   "cell_type": "code",
   "execution_count": null,
   "metadata": {},
   "outputs": [],
   "source": []
  },
  {
   "cell_type": "code",
   "execution_count": 39,
   "metadata": {},
   "outputs": [],
   "source": [
    "class MarkovNumbers:\n",
    "    def __init__(self, data, size=1, skipLast=0):\n",
    "        '''This is the constructor'''\n",
    "        # This is a comment\n",
    "        self.tables = []\n",
    "        for i in range(size):\n",
    "            self.tables.append(get_table_numbers(data.strip().rstrip('\\n'), size=i+1, skipLast=skipLast))\n",
    "        #print('__init__ self.tables ::', self.tables)\n",
    "\n",
    "    def add(self, data, size=1, skipLast=0):\n",
    "        for i in range(size):\n",
    "            tmp_tbl = self.tables[i]\n",
    "            #print('self.tables[',i,'] : ', tmp_tbl)\n",
    "            #self.tables.append(get_table_numbers(data.strip().rstrip('\\n'), size=i+1, skipLast=skipLast))\n",
    "            new_dic = (get_table_numbers(data.strip().rstrip('\\n'), size=i+1, skipLast=skipLast))\n",
    "            #print('new_dic : ', new_dic)\n",
    "            for key in new_dic:\n",
    "                #print(key, '->', new_dic[key])\n",
    "                if key in tmp_tbl:\n",
    "                    #merged_dic = {**tmp_tbl[key], **new_dic[key]}\n",
    "                    merged_dic = (tmp_tbl[key]).copy()\n",
    "                    #print('merged_dic : ', merged_dic, ', new_dic[key] : ', new_dic[key])\n",
    "                    for kk, value in (new_dic[key]).items():\n",
    "                        #print(kk, ' :::: ', value)\n",
    "                        if kk in merged_dic:\n",
    "                            new_value = int(merged_dic[kk]) + int(value)\n",
    "                            merged_dic[kk] = new_value\n",
    "                        else:\n",
    "                            merged_dic[kk] = value\n",
    "                    #print(key, 'found in self.tables: ', tmp_tbl[key], 'to merge with', new_dic[key], ' :: ', merged_dic)\n",
    "                    #merged_dic = dict(sorted(merged_dic.items(), key=operator.itemgetter(1), reverse=True))\n",
    "                    merged_dic = dict(sorted(merged_dic.items(), key=lambda x: (int(-x[1]),int(x[0]))))\n",
    "                    tmp_tbl[key] = merged_dic\n",
    "                    self.tables[i] = tmp_tbl\n",
    "                else:\n",
    "                    tmp_tbl[key] = new_dic[key]\n",
    "                    self.tables[i] = tmp_tbl\n",
    "\n",
    "    def combinations(self):\n",
    "        return self.tables\n",
    "    \n",
    "    def predict(self, txt):  # this is a method\n",
    "        #print('self.tables ::', self.tables)\n",
    "        #table = self.tables[len(txt)-1]\n",
    "        txt = txt.strip()\n",
    "        ws = re.split('\\s+', txt.rstrip('\\n'))\n",
    "        table = self.tables[len(ws)-1]  # select dictionary based on number of words in txt\n",
    "        search_txt = txt\n",
    "        #try:\n",
    "        #    search_txt = [x for x in table if txt in x.lower()][0]  # search for key in dictionary\n",
    "        #except IndexError:\n",
    "        #    search_txt = txt\n",
    "        options = table.get(search_txt, {})\n",
    "        #options = self.table.get(txt, {})\n",
    "        #if not options:\n",
    "        #    raise KeyError('{} not found'.format(txt))\n",
    "        #possibles = []   # list literal\n",
    "        #for key, count in options.items():\n",
    "        #    for i in range(count):\n",
    "        #        possibles.append(key)\n",
    "        #return random.choice(possibles)\n",
    "        return options\n",
    "    \n",
    "    def t_matrix(self, level=0):\n",
    "        comb_0 = (self.tables[level])\n",
    "        comb_0 = dict(sorted(comb_0.items(), key=lambda x: (str(x[0]))))  # int\n",
    "        # rows list initialization\n",
    "        top_row = {}\n",
    "        for i in comb_0:\n",
    "            for j in comb_0[i]:\n",
    "                q = top_row.get(j, 0)\n",
    "                top_row[j] = q + comb_0[i][j]\n",
    "        top_row_keys = list(top_row.keys())\n",
    "        top_row_keys = sorted(top_row_keys)\n",
    "        top_row_keys[:0] = ['id']\n",
    "        transition_matrix = pd.DataFrame(columns = top_row_keys)\n",
    "        for i in comb_0:\n",
    "            comb_0_row = {}\n",
    "            d_tmp = comb_0[i]\n",
    "            for j in top_row_keys:\n",
    "                if j != 'id':\n",
    "                    q1 = d_tmp.get(str(j), 0)\n",
    "                    qt = top_row.get(str(i), 0)\n",
    "                    comb_0_row[j] = q1 #int(q1)/int(qt)  # q1 - frequency,  sum(d_tmp.values())\n",
    "            comb_0_row['id'] = i\n",
    "            transition_matrix = transition_matrix.append(comb_0_row, ignore_index=True)\n",
    "        transition_matrix = transition_matrix.set_index('id')\n",
    "        return transition_matrix.replace(0.0, '')\n",
    "\n",
    "    def f_matrix(self):\n",
    "        t_m = self.t_matrix().replace('', 0.0)\n",
    "        frequency_matrix = pd.DataFrame(columns = t_m.columns)\n",
    "\n",
    "        #for index, row in t_m.iterrows():\n",
    "            #print(f'Index: {index}, row: {row.values}, sum: {sum(row.values)}')\n",
    "            #comb_0_row = (row.values / sum(row.values))\n",
    "            #print((comb_0_row))\n",
    "            #frequency_matrix = frequency_matrix.append(comb_0_row, ignore_index=True)\n",
    "        return frequency_matrix"
   ]
  },
  {
   "cell_type": "code",
   "execution_count": 40,
   "metadata": {},
   "outputs": [],
   "source": [
    "class MarkovNumbersNewLine:\n",
    "    def __init__(self, data, size=1, skipLast=0):\n",
    "        '''This is the constructor'''\n",
    "        self.tables = []\n",
    "        self.combinations = []\n",
    "        for i in range(size):\n",
    "            self.tables.append(get_table_numbers_new_line(data.strip().rstrip(\"\\n\"), size=i+1, skipLast=skipLast))\n",
    "\n",
    "    def combinations(self):\n",
    "        return self.tables\n",
    "    \n",
    "    def predict(self, txt):  # this is a method\n",
    "        #table = self.tables[len(txt)-1]\n",
    "        txt = txt.strip()\n",
    "        ws = re.split('\\s+', txt)\n",
    "        table = self.tables[len(ws)-1]  # select dictionary based on number of words in txt\n",
    "        search_txt = txt\n",
    "        #try:\n",
    "        #    search_txt = [x for x in table if txt in x.lower()][0]  # search for key in dictionary\n",
    "        #except IndexError:\n",
    "        #    search_txt = txt\n",
    "        options = table.get(search_txt, {})\n",
    "        #options = self.table.get(txt, {})\n",
    "        #if not options:\n",
    "        #    raise KeyError('{} not found'.format(txt))\n",
    "        #possibles = []   # list literal\n",
    "        #for key, count in options.items():\n",
    "        #    for i in range(count):\n",
    "        #        possibles.append(key)\n",
    "        #return random.choice(possibles)\n",
    "        return options"
   ]
  },
  {
   "cell_type": "code",
   "execution_count": 41,
   "metadata": {},
   "outputs": [],
   "source": [
    "def get_table_numbers(txt, size=1, skipLast=0):\n",
    "    \"\"\"\n",
    "    Returns a transition table for txt\n",
    "\n",
    "    >>> get_table('ab cd')\n",
    "    {'ab': {'cb': 1}}\n",
    "    \"\"\"    \n",
    "    words = re.split('\\s+', txt)\n",
    "    \n",
    "    if skipLast>0:\n",
    "        words = words[:-skipLast]\n",
    "\n",
    "    words_count = len(words)\n",
    "    results = {}  # dictionary literal\n",
    "    for idx in range(words_count):\n",
    "        chars = ' '.join(words[idx:idx + size])\n",
    "        try:\n",
    "            out = words[idx+size]\n",
    "        except IndexError:\n",
    "            break\n",
    "        if out:\n",
    "            char_dict = results.get(chars, {})\n",
    "            char_dict.setdefault(out, 0)\n",
    "            char_dict[out] += 1\n",
    "            results[chars] = char_dict\n",
    "    return results"
   ]
  },
  {
   "cell_type": "code",
   "execution_count": 42,
   "metadata": {},
   "outputs": [],
   "source": [
    "def from_file_numbers(fname, size=1, skipLast=0, encoding='utf8'):\n",
    "    with open(fname, encoding=encoding) as fin:\n",
    "        data = fin.read()\n",
    "    m = MarkovNumbers(data, size=size, skipLast=skipLast)\n",
    "    return m"
   ]
  },
  {
   "cell_type": "code",
   "execution_count": 43,
   "metadata": {},
   "outputs": [],
   "source": [
    "def from_file_numbers_new_line(fname, size=1, skipLast=0, encoding='utf8'):\n",
    "    with open(fname, encoding=encoding) as fin:\n",
    "        data = fin.read()\n",
    "    m = MarkovNumbersNewLine(data, size=size)\n",
    "    return m"
   ]
  },
  {
   "cell_type": "code",
   "execution_count": null,
   "metadata": {},
   "outputs": [],
   "source": []
  },
  {
   "cell_type": "code",
   "execution_count": null,
   "metadata": {},
   "outputs": [],
   "source": []
  },
  {
   "cell_type": "code",
   "execution_count": 50,
   "metadata": {},
   "outputs": [
    {
     "data": {
      "text/html": [
       "<div>\n",
       "<style scoped>\n",
       "    .dataframe tbody tr th:only-of-type {\n",
       "        vertical-align: middle;\n",
       "    }\n",
       "\n",
       "    .dataframe tbody tr th {\n",
       "        vertical-align: top;\n",
       "    }\n",
       "\n",
       "    .dataframe thead th {\n",
       "        text-align: right;\n",
       "    }\n",
       "</style>\n",
       "<table border=\"1\" class=\"dataframe\">\n",
       "  <thead>\n",
       "    <tr style=\"text-align: right;\">\n",
       "      <th></th>\n",
       "      <th>1</th>\n",
       "      <th>2</th>\n",
       "      <th>23</th>\n",
       "      <th>3</th>\n",
       "      <th>5</th>\n",
       "    </tr>\n",
       "    <tr>\n",
       "      <th>id</th>\n",
       "      <th></th>\n",
       "      <th></th>\n",
       "      <th></th>\n",
       "      <th></th>\n",
       "      <th></th>\n",
       "    </tr>\n",
       "  </thead>\n",
       "  <tbody>\n",
       "    <tr>\n",
       "      <th>1</th>\n",
       "      <td>1</td>\n",
       "      <td>3</td>\n",
       "      <td>1</td>\n",
       "      <td></td>\n",
       "      <td></td>\n",
       "    </tr>\n",
       "    <tr>\n",
       "      <th>2</th>\n",
       "      <td>1</td>\n",
       "      <td></td>\n",
       "      <td></td>\n",
       "      <td>1</td>\n",
       "      <td></td>\n",
       "    </tr>\n",
       "    <tr>\n",
       "      <th>23</th>\n",
       "      <td></td>\n",
       "      <td></td>\n",
       "      <td></td>\n",
       "      <td>1</td>\n",
       "      <td></td>\n",
       "    </tr>\n",
       "    <tr>\n",
       "      <th>3</th>\n",
       "      <td>1</td>\n",
       "      <td></td>\n",
       "      <td></td>\n",
       "      <td></td>\n",
       "      <td>1</td>\n",
       "    </tr>\n",
       "  </tbody>\n",
       "</table>\n",
       "</div>"
      ],
      "text/plain": [
       "    1  2 23  3  5\n",
       "id               \n",
       "1   1  3  1      \n",
       "2   1        1   \n",
       "23           1   \n",
       "3   1           1"
      ]
     },
     "execution_count": 50,
     "metadata": {},
     "output_type": "execute_result"
    }
   ],
   "source": [
    "m = MarkovNumbers('', size=2, skipLast=0)\n",
    "m.add('1 23 3 1 2 1 2', size=2, skipLast=0)\n",
    "m.add('1 1 2 3 5', size=2, skipLast=0)\n",
    "m.predict('1')\n",
    "#print(m.t_matrix(0))\n",
    "mn = m.t_matrix(0)\n",
    "mn"
   ]
  },
  {
   "cell_type": "code",
   "execution_count": 48,
   "metadata": {},
   "outputs": [
    {
     "data": {
      "text/plain": [
       "{'3': 1}"
      ]
     },
     "execution_count": 48,
     "metadata": {},
     "output_type": "execute_result"
    }
   ],
   "source": [
    "m.predict('23')"
   ]
  },
  {
   "cell_type": "code",
   "execution_count": null,
   "metadata": {},
   "outputs": [],
   "source": []
  }
 ],
 "metadata": {
  "kernelspec": {
   "display_name": "Python 3",
   "language": "python",
   "name": "python3"
  },
  "language_info": {
   "codemirror_mode": {
    "name": "ipython",
    "version": 3
   },
   "file_extension": ".py",
   "mimetype": "text/x-python",
   "name": "python",
   "nbconvert_exporter": "python",
   "pygments_lexer": "ipython3",
   "version": "3.8.8"
  }
 },
 "nbformat": 4,
 "nbformat_minor": 4
}

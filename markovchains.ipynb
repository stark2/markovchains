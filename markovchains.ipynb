{
 "cells": [
  {
   "cell_type": "code",
   "execution_count": 147,
   "metadata": {},
   "outputs": [],
   "source": [
    "import argparse\n",
    "import random\n",
    "import sys\n",
    "import urllib.request as req\n",
    "import re"
   ]
  },
  {
   "cell_type": "code",
   "execution_count": 148,
   "metadata": {},
   "outputs": [],
   "source": [
    "def fetch_url(url, fname):\n",
    "    'get contents of url put in fname'\n",
    "    fin = req.urlopen(url)\n",
    "    data = fin.read()\n",
    "    with open(fname, mode='wb') as fout:\n",
    "        fout.write(data)\n",
    "    #  context mgr closes file"
   ]
  },
  {
   "cell_type": "code",
   "execution_count": 149,
   "metadata": {},
   "outputs": [],
   "source": [
    "def from_file(fname, size=1, encoding='utf8'):\n",
    "    with open(fname, encoding=encoding) as fin:\n",
    "        data = fin.read()\n",
    "    m = Markov(data, size=size)\n",
    "    return m"
   ]
  },
  {
   "cell_type": "code",
   "execution_count": 150,
   "metadata": {},
   "outputs": [],
   "source": [
    "def from_file_words(fname, size=1, encoding='utf8'):\n",
    "    with open(fname, encoding=encoding) as fin:\n",
    "        data = fin.read()\n",
    "    m = MarkovWords(data, size=size)\n",
    "    return m"
   ]
  },
  {
   "cell_type": "code",
   "execution_count": 151,
   "metadata": {},
   "outputs": [],
   "source": [
    "class Markov:\n",
    "    def __init__(self, data, size=1):\n",
    "        '''This is the constructor'''\n",
    "        # This is a comment\n",
    "        self.tables = []\n",
    "        for i in range(size):\n",
    "            self.tables.append(get_table(data, size=i+1))\n",
    "        #self.table = get_table(data)\n",
    "\n",
    "    def predict(self, txt):  # this is a method\n",
    "        table = self.tables[len(txt)-1]\n",
    "        options = table.get(txt, {})\n",
    "        #options = self.table.get(txt, {})\n",
    "        if not options:\n",
    "            raise KeyError('{} not found'.format(txt))\n",
    "            #raise KeyError(f'{txt} not found')\n",
    "        possibles = []   # list literal\n",
    "        for key, count in options.items():\n",
    "            for i in range(count):\n",
    "                possibles.append(key)\n",
    "        return random.choice(possibles)"
   ]
  },
  {
   "cell_type": "code",
   "execution_count": 336,
   "metadata": {},
   "outputs": [],
   "source": [
    "def get_table(txt, size=1):  # this is a function\n",
    "    \"\"\"\n",
    "    Returns a transition table for txt\n",
    "\n",
    "    >>> get_table('ab')\n",
    "    {'a': {'b': 1}}\n",
    "    \"\"\"\n",
    "    results = {}  # dictionary literal\n",
    "    for idx in range(len(txt)):\n",
    "        chars = txt[idx:idx + size]\n",
    "        try:\n",
    "            out = txt[idx+size]\n",
    "        except IndexError:\n",
    "            break\n",
    "        char_dict = results.get(chars, {})\n",
    "        char_dict.setdefault(out, 0)\n",
    "        char_dict[out] += 1\n",
    "        results[chars] = char_dict\n",
    "    return results"
   ]
  },
  {
   "cell_type": "code",
   "execution_count": null,
   "metadata": {},
   "outputs": [],
   "source": []
  },
  {
   "cell_type": "code",
   "execution_count": 361,
   "metadata": {},
   "outputs": [],
   "source": [
    "class MarkovWords:\n",
    "    def __init__(self, data, size=1):\n",
    "        '''This is the constructor'''\n",
    "        # This is a comment\n",
    "        self.tables = []\n",
    "        for i in range(size):\n",
    "            self.tables.append(get_table_words(data, size=i+1))\n",
    "        #self.table = get_table(data)\n",
    "\n",
    "    def predict(self, txt):  # this is a method\n",
    "        #table = self.tables[len(txt)-1]\n",
    "        ws = re.split('\\s+', txt)\n",
    "        table = self.tables[len(ws)-1]  # select dictionary based on number of words in tx\n",
    "        options = table.get(txt, {})\n",
    "        #options = self.table.get(txt, {})\n",
    "        if not options:\n",
    "            raise KeyError('{} not found'.format(txt))\n",
    "            #raise KeyError(f'{txt} not found')\n",
    "        possibles = []   # list literal\n",
    "        for key, count in options.items():\n",
    "            for i in range(count):\n",
    "                possibles.append(key)\n",
    "        return random.choice(possibles)"
   ]
  },
  {
   "cell_type": "code",
   "execution_count": 153,
   "metadata": {},
   "outputs": [],
   "source": []
  },
  {
   "cell_type": "code",
   "execution_count": 350,
   "metadata": {},
   "outputs": [],
   "source": [
    "def get_table_words(txt, size=1):  # this is a function\n",
    "    \"\"\"\n",
    "    Returns a transition table for txt\n",
    "\n",
    "    >>> get_table('ab cd')\n",
    "    {'ab': {'cb': 1}}\n",
    "    \"\"\"\n",
    "    words = re.split('\\s+', txt)\n",
    "    words_count = len(words)\n",
    "    results = {}  # dictionary literal\n",
    "    for idx in range(words_count):\n",
    "        chars = ' '.join(words[idx:idx + size])\n",
    "        try:\n",
    "            out = words[idx+size]\n",
    "        except IndexError:\n",
    "            break\n",
    "        char_dict = results.get(chars, {})\n",
    "        char_dict.setdefault(out, 0)\n",
    "        char_dict[out] += 1\n",
    "        results[chars] = char_dict\n",
    "    return results"
   ]
  },
  {
   "cell_type": "code",
   "execution_count": 364,
   "metadata": {},
   "outputs": [],
   "source": [
    "w = MarkovWords('the one quick brown fox jumps over the one lazy dog', size=2)"
   ]
  },
  {
   "cell_type": "code",
   "execution_count": 367,
   "metadata": {},
   "outputs": [
    {
     "data": {
      "text/plain": [
       "'lazy'"
      ]
     },
     "execution_count": 367,
     "metadata": {},
     "output_type": "execute_result"
    }
   ],
   "source": [
    "w.predict('the one')"
   ]
  },
  {
   "cell_type": "code",
   "execution_count": 155,
   "metadata": {},
   "outputs": [
    {
     "data": {
      "text/plain": [
       "2"
      ]
     },
     "execution_count": 155,
     "metadata": {},
     "output_type": "execute_result"
    }
   ],
   "source": [
    "len(re.split('\\s+', \"ab cd\"))"
   ]
  },
  {
   "cell_type": "code",
   "execution_count": 156,
   "metadata": {},
   "outputs": [
    {
     "data": {
      "text/plain": [
       "{'ab': {'cd': 1}}"
      ]
     },
     "execution_count": 156,
     "metadata": {},
     "output_type": "execute_result"
    }
   ],
   "source": [
    "get_table_words(\"ab cd\", size=1)"
   ]
  },
  {
   "cell_type": "code",
   "execution_count": 317,
   "metadata": {},
   "outputs": [],
   "source": [
    "words = get_table_words(\"the one quick brown fox jumps over the one lazy dog\", size=2)"
   ]
  },
  {
   "cell_type": "code",
   "execution_count": 318,
   "metadata": {},
   "outputs": [
    {
     "data": {
      "text/plain": [
       "{'the one': {'quick': 1, 'lazy': 1},\n",
       " 'one quick': {'brown': 1},\n",
       " 'quick brown': {'fox': 1},\n",
       " 'brown fox': {'jumps': 1},\n",
       " 'fox jumps': {'over': 1},\n",
       " 'jumps over': {'the': 1},\n",
       " 'over the': {'one': 1},\n",
       " 'one lazy': {'dog': 1}}"
      ]
     },
     "execution_count": 318,
     "metadata": {},
     "output_type": "execute_result"
    }
   ],
   "source": [
    "words"
   ]
  },
  {
   "cell_type": "code",
   "execution_count": 314,
   "metadata": {},
   "outputs": [
    {
     "data": {
      "text/plain": [
       "dict"
      ]
     },
     "execution_count": 314,
     "metadata": {},
     "output_type": "execute_result"
    }
   ],
   "source": [
    "type(words)"
   ]
  },
  {
   "cell_type": "code",
   "execution_count": 160,
   "metadata": {},
   "outputs": [
    {
     "data": {
      "text/plain": [
       "{'quick': 1, 'lazy': 1}"
      ]
     },
     "execution_count": 160,
     "metadata": {},
     "output_type": "execute_result"
    }
   ],
   "source": [
    "words['the']"
   ]
  },
  {
   "cell_type": "code",
   "execution_count": 161,
   "metadata": {},
   "outputs": [],
   "source": [
    "def repl(m):\n",
    "    print(\"Welcome to the Markov REPL. (Hit Ctl-C to exit)\")\n",
    "    while True:\n",
    "        try:\n",
    "            txt = input('>')\n",
    "        except KeyboardInterrupt:\n",
    "            print(\"Goodbye\")\n",
    "            break\n",
    "        try:\n",
    "            res = m.predict(txt)\n",
    "        except KeyError:\n",
    "            print(\"Word not found\")\n",
    "        except IndexError:\n",
    "            print('Try again')\n",
    "        else:\n",
    "            print(res)"
   ]
  },
  {
   "cell_type": "code",
   "execution_count": 170,
   "metadata": {},
   "outputs": [],
   "source": [
    "m = Markov('the quick brown fox jumps over the lazy dog', size=3)"
   ]
  },
  {
   "cell_type": "code",
   "execution_count": 331,
   "metadata": {},
   "outputs": [],
   "source": []
  },
  {
   "cell_type": "code",
   "execution_count": null,
   "metadata": {},
   "outputs": [],
   "source": []
  },
  {
   "cell_type": "code",
   "execution_count": 173,
   "metadata": {},
   "outputs": [],
   "source": [
    "pp = from_file_words('pp.txt', size=4)"
   ]
  },
  {
   "cell_type": "code",
   "execution_count": 241,
   "metadata": {},
   "outputs": [
    {
     "data": {
      "text/plain": [
       "'wisest'"
      ]
     },
     "execution_count": 241,
     "metadata": {},
     "output_type": "execute_result"
    }
   ],
   "source": [
    "pp.predict('The')"
   ]
  },
  {
   "cell_type": "code",
   "execution_count": 184,
   "metadata": {},
   "outputs": [
    {
     "data": {
      "text/plain": [
       "{'th': {'e': 2},\n",
       " 'he': {' ': 2},\n",
       " 'e ': {'q': 1, 'l': 1},\n",
       " ' q': {'u': 1},\n",
       " 'qu': {'i': 1},\n",
       " 'ui': {'c': 1},\n",
       " 'ic': {'k': 1},\n",
       " 'ck': {' ': 1},\n",
       " 'k ': {'b': 1},\n",
       " ' b': {'r': 1},\n",
       " 'br': {'o': 1},\n",
       " 'ro': {'w': 1},\n",
       " 'ow': {'n': 1},\n",
       " 'wn': {' ': 1},\n",
       " 'n ': {'f': 1},\n",
       " ' f': {'o': 1},\n",
       " 'fo': {'x': 1},\n",
       " 'ox': {' ': 1},\n",
       " 'x ': {'j': 1},\n",
       " ' j': {'u': 1},\n",
       " 'ju': {'m': 1},\n",
       " 'um': {'p': 1},\n",
       " 'mp': {'s': 1},\n",
       " 'ps': {' ': 1},\n",
       " 's ': {'o': 1},\n",
       " ' o': {'v': 1},\n",
       " 'ov': {'e': 1},\n",
       " 've': {'r': 1},\n",
       " 'er': {' ': 1},\n",
       " 'r ': {'t': 1},\n",
       " ' t': {'h': 1},\n",
       " ' l': {'a': 1},\n",
       " 'la': {'z': 1},\n",
       " 'az': {'y': 1},\n",
       " 'zy': {' ': 1},\n",
       " 'y ': {'d': 1},\n",
       " ' d': {'o': 1},\n",
       " 'do': {'g': 1}}"
      ]
     },
     "execution_count": 184,
     "metadata": {},
     "output_type": "execute_result"
    }
   ],
   "source": [
    "get_table(\"the quick brown fox jumps over the lazy dog\", size=2)"
   ]
  },
  {
   "cell_type": "code",
   "execution_count": 209,
   "metadata": {},
   "outputs": [
    {
     "data": {
      "text/plain": [
       "{'the': {'one': 2},\n",
       " 'one': {'quick': 1, 'lazy': 1},\n",
       " 'quick': {'brown': 1},\n",
       " 'brown': {'fox': 1},\n",
       " 'fox': {'jumps': 1},\n",
       " 'jumps': {'over': 1},\n",
       " 'over': {'the': 1},\n",
       " 'lazy': {'dog': 1}}"
      ]
     },
     "execution_count": 209,
     "metadata": {},
     "output_type": "execute_result"
    }
   ],
   "source": [
    "get_table_words(\"the one quick brown fox jumps over the one lazy dog\", size=1)"
   ]
  },
  {
   "cell_type": "code",
   "execution_count": 277,
   "metadata": {},
   "outputs": [],
   "source": [
    "a = \"the one quick brown fox jumps over the one lazy dog\""
   ]
  },
  {
   "cell_type": "code",
   "execution_count": 282,
   "metadata": {},
   "outputs": [
    {
     "data": {
      "text/plain": [
       "['the',\n",
       " 'one',\n",
       " 'quick',\n",
       " 'brown',\n",
       " 'fox',\n",
       " 'jumps',\n",
       " 'over',\n",
       " 'the',\n",
       " 'one',\n",
       " 'lazy',\n",
       " 'dog']"
      ]
     },
     "execution_count": 282,
     "metadata": {},
     "output_type": "execute_result"
    }
   ],
   "source": [
    "words = re.split('\\s+', a)\n",
    "words"
   ]
  },
  {
   "cell_type": "code",
   "execution_count": 297,
   "metadata": {},
   "outputs": [
    {
     "data": {
      "text/plain": [
       "['the', 'one', 'quick']"
      ]
     },
     "execution_count": 297,
     "metadata": {},
     "output_type": "execute_result"
    }
   ],
   "source": [
    "chars = words[0:0 + 3]\n",
    "chars"
   ]
  },
  {
   "cell_type": "code",
   "execution_count": 298,
   "metadata": {},
   "outputs": [
    {
     "data": {
      "text/plain": [
       "'the one quick'"
      ]
     },
     "execution_count": 298,
     "metadata": {},
     "output_type": "execute_result"
    }
   ],
   "source": [
    "' '.join(chars)"
   ]
  },
  {
   "cell_type": "code",
   "execution_count": 260,
   "metadata": {},
   "outputs": [],
   "source": [
    "l = a.split(\" \", 2)"
   ]
  },
  {
   "cell_type": "code",
   "execution_count": 252,
   "metadata": {},
   "outputs": [
    {
     "data": {
      "text/plain": [
       "['the', 'one']"
      ]
     },
     "execution_count": 252,
     "metadata": {},
     "output_type": "execute_result"
    }
   ],
   "source": [
    "a.split(\" \", 2)[:2]"
   ]
  },
  {
   "cell_type": "code",
   "execution_count": 251,
   "metadata": {},
   "outputs": [
    {
     "data": {
      "text/plain": [
       "'the one'"
      ]
     },
     "execution_count": 251,
     "metadata": {},
     "output_type": "execute_result"
    }
   ],
   "source": [
    "\" \".join(a.split(\" \", 2)[:2])"
   ]
  },
  {
   "cell_type": "code",
   "execution_count": 262,
   "metadata": {},
   "outputs": [],
   "source": [
    "ll = a.split(\" \")"
   ]
  },
  {
   "cell_type": "code",
   "execution_count": 263,
   "metadata": {},
   "outputs": [
    {
     "name": "stdout",
     "output_type": "stream",
     "text": [
      "the\n",
      "one\n",
      "quick\n",
      "brown\n",
      "fox\n",
      "jumps\n",
      "over\n",
      "the\n",
      "one\n",
      "lazy\n",
      "dog\n"
     ]
    }
   ],
   "source": [
    "for i in ll:\n",
    "    print(i)"
   ]
  },
  {
   "cell_type": "code",
   "execution_count": 266,
   "metadata": {},
   "outputs": [
    {
     "name": "stdout",
     "output_type": "stream",
     "text": [
      "the one\n",
      "one quick\n",
      "quick brown\n",
      "brown fox\n",
      "fox jumps\n",
      "jumps over\n",
      "over the\n",
      "the one\n",
      "one lazy\n",
      "lazy dog\n"
     ]
    }
   ],
   "source": [
    "for i in range(len(ll)-1):\n",
    "    print(ll[i], ll[i+1])"
   ]
  },
  {
   "cell_type": "code",
   "execution_count": null,
   "metadata": {},
   "outputs": [],
   "source": []
  }
 ],
 "metadata": {
  "kernelspec": {
   "display_name": "Python 3",
   "language": "python",
   "name": "python3"
  },
  "language_info": {
   "codemirror_mode": {
    "name": "ipython",
    "version": 3
   },
   "file_extension": ".py",
   "mimetype": "text/x-python",
   "name": "python",
   "nbconvert_exporter": "python",
   "pygments_lexer": "ipython3",
   "version": "3.8.5"
  }
 },
 "nbformat": 4,
 "nbformat_minor": 4
}

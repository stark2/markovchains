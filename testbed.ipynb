{
 "cells": [
  {
   "cell_type": "code",
   "execution_count": 6,
   "id": "a2327e02",
   "metadata": {},
   "outputs": [
    {
     "name": "stdout",
     "output_type": "stream",
     "text": [
      "Without involving them at this half - 6221541.\n",
      "Sentence start of men of both changed colour, for the morning came to her relations at.\n"
     ]
    }
   ],
   "source": [
    "from markovchain import JsonStorage\n",
    "from markovchain.text import MarkovText, ReplyMode\n",
    "\n",
    "markov = MarkovText()\n",
    "\n",
    "with open('pp.txt') as fp:\n",
    "    markov.data(fp.read())\n",
    "\n",
    "with open('pp.txt') as fp:\n",
    "    for line in fp:\n",
    "        markov.data(line, part=True)\n",
    "markov.data('', part=False)\n",
    "\n",
    "print(markov())\n",
    "print(markov(max_length=16, reply_to='sentence start', reply_mode=ReplyMode.END))\n",
    "\n",
    "markov.save('markov.json')\n",
    "\n",
    "markov = MarkovText.from_file('markov.json')"
   ]
  }
 ],
 "metadata": {
  "kernelspec": {
   "display_name": "Python 3",
   "language": "python",
   "name": "python3"
  },
  "language_info": {
   "codemirror_mode": {
    "name": "ipython",
    "version": 3
   },
   "file_extension": ".py",
   "mimetype": "text/x-python",
   "name": "python",
   "nbconvert_exporter": "python",
   "pygments_lexer": "ipython3",
   "version": "3.8.8"
  }
 },
 "nbformat": 4,
 "nbformat_minor": 5
}
